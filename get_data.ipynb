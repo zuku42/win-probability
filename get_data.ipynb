{
 "cells": [
  {
   "cell_type": "code",
   "execution_count": 4,
   "id": "d2596e93-2801-4cf8-964e-e5916e90e7f8",
   "metadata": {},
   "outputs": [],
   "source": [
    "import requests\n",
    "import shutil\n",
    "import json\n",
    "\n",
    "import pandas as pd\n",
    "import numpy as np"
   ]
  },
  {
   "cell_type": "code",
   "execution_count": 5,
   "id": "033d3427",
   "metadata": {},
   "outputs": [],
   "source": [
    "pd.set_option('display.max_rows', 500)"
   ]
  },
  {
   "cell_type": "markdown",
   "id": "ac0f6fc3",
   "metadata": {},
   "source": [
    "## 1. Fetch data"
   ]
  },
  {
   "cell_type": "code",
   "execution_count": 6,
   "id": "0f37252b-be5b-4f04-b3b3-5bdff6e9754b",
   "metadata": {},
   "outputs": [
    {
     "name": "stdout",
     "output_type": "stream",
     "text": [
      "Failed to download data from season 15. Status code: 404\n",
      "Failed to download data from season 16. Status code: 404\n",
      "Data from season 17 downloaded successfully.\n",
      "Failed to download data from season 18. Status code: 404\n",
      "Failed to download data from season 19. Status code: 404\n",
      "Data from season 20 downloaded successfully.\n",
      "Failed to download data from season 21. Status code: 404\n",
      "Data from season 22 downloaded successfully.\n",
      "Data from season 23 downloaded successfully.\n"
     ]
    }
   ],
   "source": [
    "# fetch and save play-by-play data\n",
    "seasons = [20, 22, 23]\n",
    "for season in seasons:\n",
    "    url = f\"https://github.com/ramirobentes/NBA-in-R/releases/download/pbp-poss-rs{season}/data.csv\"\n",
    "    response = requests.get(url)\n",
    "    if response.status_code == 200:\n",
    "        data = response.content\n",
    "        file_path = f\"../data/pbp_{season}.csv\"\n",
    "        with open(file_path, \"wb\") as file:\n",
    "            file.write(data)\n",
    "        print(\"Data downloaded successfully.\")\n",
    "    else:\n",
    "        print(\"Failed to download data. Status code:\", response.status_code)"
   ]
  },
  {
   "cell_type": "code",
   "execution_count": 7,
   "id": "09a4ac29",
   "metadata": {},
   "outputs": [],
   "source": [
    "# fetch and save betting data\n",
    "url = 'https://www.rotowire.com/betting/nba/tables/games-archive.php'\n",
    "response = requests.get(url)\n",
    "content = response.content\n",
    "content = content.decode('utf-8')\n",
    "betting_dict = json.loads(content)\n",
    "betting_df = pd.DataFrame(betting_dict)\n",
    "betting_df.to_csv('../data/betting.csv', index=False)"
   ]
  },
  {
   "cell_type": "markdown",
   "id": "77fe8898",
   "metadata": {},
   "source": [
    "## 2. Prepare play-by-play data"
   ]
  },
  {
   "cell_type": "code",
   "execution_count": 8,
   "id": "db0e2f32-798b-4271-b4cf-e4d269639f16",
   "metadata": {
    "scrolled": true
   },
   "outputs": [],
   "source": [
    "# read play-by-play data\n",
    "pbp_df = pd.concat([\n",
    "    pd.read_csv(\"../data/pbp_20.csv\"),\n",
    "    pd.read_csv(\"../data/pbp_22.csv\"),\n",
    "    pd.read_csv(\"../data/pbp_23.csv\")\n",
    "], axis=0)"
   ]
  },
  {
   "cell_type": "code",
   "execution_count": 9,
   "id": "cd1dfa1f",
   "metadata": {},
   "outputs": [],
   "source": [
    "# 0 : game end *\n",
    "# 1 : made shot *\n",
    "# 2 : missed shot *\n",
    "# 3 : free throw *\n",
    "# 4 : rebound *\n",
    "# 5 : turnover *\n",
    "# 6 : foul *\n",
    "# 7 : violation\n",
    "# 8 : substitution\n",
    "# 9 : time out\n",
    "# 10 : jump ball *\n",
    "# 11 : ejection\n",
    "# 12 : start period *\n",
    "# 13 : end period *\n",
    "# 20 : stoppage \n",
    "# 99 : last possession of quarter *"
   ]
  },
  {
   "cell_type": "code",
   "execution_count": 10,
   "id": "07bd5034",
   "metadata": {},
   "outputs": [],
   "source": [
    "relevant_events = [0, 1, 2, 3, 4, 5, 6, 10, 11, 12, 13, 99]\n",
    "pbp_df = pbp_df[pbp_df['msg_type'].isin(relevant_events)]"
   ]
  },
  {
   "cell_type": "code",
   "execution_count": 11,
   "id": "2279787d",
   "metadata": {},
   "outputs": [],
   "source": [
    "P_DEF_REB = 0.7\n",
    "P_DEF_REB_FT = 0.85\n",
    "P_FTM = 0.7"
   ]
  },
  {
   "cell_type": "code",
   "execution_count": 12,
   "id": "e2f78924",
   "metadata": {},
   "outputs": [],
   "source": [
    "def identify_event(msg_type, off_team, home_team, description):\n",
    "    is_in_possession = (home_team == off_team)\n",
    "    is_actor = (home_team in description)\n",
    "    if msg_type == 3: #free throw\n",
    "        if 'flagrant' in description.lower() or 'technical' in description.lower():\n",
    "            return 33 # technical/flagrant free throw\n",
    "        if any([f'{x} of {x}' in description for x in (1, 2, 3)]):\n",
    "            if 'Missed' in description:\n",
    "                return 31 # last free throw (missed)\n",
    "            else:\n",
    "                return 32 # last free throw (made)\n",
    "    if msg_type == 4: #rebound\n",
    "        if (not is_in_possession and is_actor) or (is_in_possession and not is_actor):\n",
    "            return 41 #defensive rebound\n",
    "        if (not is_in_possession and not is_actor) or (is_in_possession and is_actor):\n",
    "            return 42 #offensive rebound\n",
    "    if msg_type == 6: #foul\n",
    "        is_flagrant = 'flagrant' in description.lower()\n",
    "        is_technical = 'technical' in description.lower()\n",
    "        if 'FTA' in description:\n",
    "            fta = int(description[description.find('FTA')-2])\n",
    "            if is_flagrant:\n",
    "                if is_actor == is_in_possession:\n",
    "                    return 65 #flagrant foul in offense(2 FTA)\n",
    "                elif is_actor != is_in_possession:\n",
    "                    return 66 #flagrant foul in defense (2 FTA)\n",
    "            elif is_technical:\n",
    "                return 67 #technical foul (1 FTA)\n",
    "            else:\n",
    "                if fta == 1:\n",
    "                    return 61 #personal foul (1 FTA)\n",
    "                if fta == 2:\n",
    "                    return 62 # personal foul (2 FTA)\n",
    "                if fta == 3:\n",
    "                    return 63 #personal foul (3 FTA)\n",
    "        if 'offensive' in description.lower():\n",
    "            return 64 #offensive foul"
   ]
  },
  {
   "cell_type": "code",
   "execution_count": 13,
   "id": "f16faebe",
   "metadata": {},
   "outputs": [],
   "source": [
    "custom_events = pbp_df.apply(\n",
    "    lambda x: identify_event(\n",
    "        x['msg_type'], \n",
    "        x['off_slug_team'], \n",
    "        x['team_home'], \n",
    "        x['description']), \n",
    "    axis=1)"
   ]
  },
  {
   "cell_type": "code",
   "execution_count": 14,
   "id": "6b72aa2d",
   "metadata": {},
   "outputs": [],
   "source": [
    "pbp_df['event'] = [\n",
    "    msg_type if np.isnan(custom_event) else custom_event for msg_type, custom_event in zip(pbp_df['msg_type'], custom_events)\n",
    "]\n",
    "\n",
    "pbp_df['event'] = pbp_df['event'].astype(int)"
   ]
  },
  {
   "cell_type": "code",
   "execution_count": 15,
   "id": "54279895",
   "metadata": {},
   "outputs": [],
   "source": [
    "event_dict = {\n",
    "    0: 'game end',\n",
    "    1: 'field goal (made)',\n",
    "    2: 'field goal (missed)',\n",
    "    3: 'free throw',\n",
    "    31: 'last free throw (missed)',\n",
    "    32: 'last free throw (made)',\n",
    "    33: 'technical/flagrant free throw',\n",
    "    41: 'defensive rebound',\n",
    "    42: 'offensive rebound',\n",
    "    5: 'turnover',\n",
    "    6: 'foul',\n",
    "    61: 'foul (1 FTA)',\n",
    "    62: 'foul (2 FTA)',\n",
    "    63: 'foul (3 FTA)',\n",
    "    64: 'offensive foul',\n",
    "    65: 'flagrant foul in offense',\n",
    "    66: 'flagrant foul in defense',\n",
    "    67: 'technical foul',\n",
    "    10: 'jump ball',\n",
    "    11: 'rejection',\n",
    "    12: 'start period',\n",
    "    13: 'end period',\n",
    "    99: 'last posession of quarter',\n",
    "}"
   ]
  },
  {
   "cell_type": "code",
   "execution_count": 16,
   "id": "112e02b8",
   "metadata": {},
   "outputs": [],
   "source": [
    "pbp_df['event_desc'] = pbp_df['event'].apply(lambda x: event_dict[x])"
   ]
  },
  {
   "cell_type": "code",
   "execution_count": 17,
   "id": "800ad6a7",
   "metadata": {},
   "outputs": [],
   "source": [
    "def possession_probs(event, off_team, home_team, period):\n",
    "    home_team_attacks = int(off_team == home_team)\n",
    "    if event == 12:\n",
    "        if period == 1 or period >= 5:\n",
    "            return 0.5\n",
    "        else:\n",
    "            return home_team_attacks\n",
    "    if event in (0, 13, 99):\n",
    "        return 0.5\n",
    "    if event in (1, 32, 41, 5, 64, 65):\n",
    "        return int(not home_team_attacks)\n",
    "    if event == 2:\n",
    "        return abs(home_team_attacks - P_DEF_REB)\n",
    "    if event == 31:\n",
    "        return abs(home_team_attacks - P_DEF_REB_FT)\n",
    "    if event in (10, 11, 33, 42, 6, 66, 67):\n",
    "        return home_team_attacks\n",
    "    if event in (3, 61, 62, 63):\n",
    "        return P_FTM * int(not home_team_attacks) + (1-P_FTM) * abs(home_team_attacks - P_DEF_REB_FT)"
   ]
  },
  {
   "cell_type": "code",
   "execution_count": 18,
   "id": "0af936f2",
   "metadata": {},
   "outputs": [],
   "source": [
    "pbp_df['home_possession_prob'] = pbp_df.apply(lambda x: \n",
    "                                              possession_probs(\n",
    "                                                  x['event'],\n",
    "                                                  x['off_slug_team'],\n",
    "                                                  x['team_home'],\n",
    "                                                  x['period']\n",
    "                                              ),\n",
    "                                              axis=1\n",
    "                                             )"
   ]
  },
  {
   "cell_type": "code",
   "execution_count": 19,
   "id": "4a997f80",
   "metadata": {},
   "outputs": [],
   "source": [
    "pbp_df['is_home_team_ejection'] = pbp_df.apply(lambda x: (x['msg_type']==11 or (x['msg_type']==6 and '6 PF' in x['description'] and x['team_home'] in x['description'])), axis=1)\n",
    "pbp_df['is_away_team_ejection'] = pbp_df.apply(lambda x: (x['msg_type']==11 or (x['msg_type']==6 and '6 PF' in x['description'] and x['team_away'] in x['description'])), axis=1)\n",
    "\n",
    "pbp_df['home_team_ejections'] = pbp_df.groupby(['game_id', 'period'])['is_home_team_ejection'].cumsum()\n",
    "pbp_df['away_team_ejections'] = pbp_df.groupby(['game_id', 'period'])['is_away_team_ejection'].cumsum()"
   ]
  },
  {
   "cell_type": "code",
   "execution_count": 20,
   "id": "79448dca",
   "metadata": {},
   "outputs": [],
   "source": [
    "pbp_df['ejections'] = pbp_df['home_team_ejections'] - pbp_df['away_team_ejections']"
   ]
  },
  {
   "cell_type": "code",
   "execution_count": 21,
   "id": "87509010",
   "metadata": {},
   "outputs": [],
   "source": [
    "pbp_df['is_home_team_foul'] = pbp_df.apply(lambda x: x['msg_type']==6 and x['event']!=65 and x['team_home'] in x['description'], axis=1)\n",
    "pbp_df['is_away_team_foul'] = pbp_df.apply(lambda x: x['msg_type'] == 6 and x['event']!=65 and x['team_away'] in x['description'], axis=1)\n",
    "\n",
    "pbp_df['home_team_fouls'] = pbp_df.groupby(['game_id', 'period'])['is_home_team_foul'].cumsum()\n",
    "pbp_df['away_team_fouls'] = pbp_df.groupby(['game_id', 'period'])['is_away_team_foul'].cumsum()"
   ]
  },
  {
   "cell_type": "code",
   "execution_count": 22,
   "id": "f1a07e5a",
   "metadata": {},
   "outputs": [],
   "source": [
    "pbp_df['l2m'] = pbp_df['clock'].apply(lambda x: int(x[:x.find(':')]) * 60 + int(x[x.find(':')+1:x.find(':')+3])) <= 120"
   ]
  },
  {
   "cell_type": "code",
   "execution_count": 23,
   "id": "00571ff6",
   "metadata": {},
   "outputs": [
    {
     "name": "stderr",
     "output_type": "stream",
     "text": [
      "C:\\Users\\p.zukiewicz\\AppData\\Local\\Temp\\ipykernel_20224\\3633416298.py:1: UserWarning: evaluating in Python space because the '*' operator is not supported by numexpr for the bool dtype, use '&' instead.\n",
      "  pbp_df['is_home_team_l2m_foul'] = pbp_df['is_home_team_foul'] * pbp_df['l2m']\n",
      "C:\\Users\\p.zukiewicz\\AppData\\Local\\Temp\\ipykernel_20224\\3633416298.py:2: UserWarning: evaluating in Python space because the '*' operator is not supported by numexpr for the bool dtype, use '&' instead.\n",
      "  pbp_df['is_away_team_l2m_foul'] = pbp_df['is_away_team_foul'] * pbp_df['l2m']\n"
     ]
    }
   ],
   "source": [
    "pbp_df['is_home_team_l2m_foul'] = pbp_df['is_home_team_foul'] * pbp_df['l2m']\n",
    "pbp_df['is_away_team_l2m_foul'] = pbp_df['is_away_team_foul'] * pbp_df['l2m']"
   ]
  },
  {
   "cell_type": "code",
   "execution_count": 24,
   "id": "97bcda7d",
   "metadata": {},
   "outputs": [],
   "source": [
    "pbp_df['home_l2m_fouls'] = pbp_df.groupby(['game_id', 'period'])['is_home_team_l2m_foul'].cumsum()\n",
    "pbp_df['away_l2m_fouls'] = pbp_df.groupby(['game_id', 'period'])['is_away_team_l2m_foul'].cumsum()"
   ]
  },
  {
   "cell_type": "code",
   "execution_count": 25,
   "id": "1de05cbe",
   "metadata": {},
   "outputs": [],
   "source": [
    "def is_team_in_bonus(fouls, l2m_fouls, period):\n",
    "    if period <= 4:\n",
    "        return fouls >= 5 or l2m_fouls >=2\n",
    "    if period > 4:\n",
    "        return fouls >= 4 or l2m_fouls >= 1"
   ]
  },
  {
   "cell_type": "code",
   "execution_count": 26,
   "id": "d06813b2",
   "metadata": {},
   "outputs": [],
   "source": [
    "pbp_df['home_team_bonus'] = pbp_df.apply(lambda x: is_team_in_bonus(x['home_team_fouls'],\n",
    "                                                                    x['home_l2m_fouls'],\n",
    "                                                                    x['period']),\n",
    "                                        axis=1).astype(int)\n",
    "\n",
    "pbp_df['away_team_bonus'] = pbp_df.apply(lambda x: is_team_in_bonus(x['away_team_fouls'],\n",
    "                                                                    x['away_l2m_fouls'],\n",
    "                                                                    x['period']),\n",
    "                                        axis=1).astype(int)"
   ]
  },
  {
   "cell_type": "code",
   "execution_count": 27,
   "id": "30c552dd",
   "metadata": {},
   "outputs": [],
   "source": [
    "pbp_df['bonus'] = pbp_df['home_team_bonus'] - pbp_df['away_team_bonus']"
   ]
  },
  {
   "cell_type": "code",
   "execution_count": 28,
   "id": "ce5fa774",
   "metadata": {},
   "outputs": [],
   "source": [
    "def free_throws_left(home_team, msg_type, event, description):\n",
    "    if msg_type == 6:\n",
    "        home_team_fouled = - (2 * (home_team in description) - 1)\n",
    "        try:\n",
    "            n_free_throws = int(description[description.find('FTA')-2])\n",
    "        except ValueError:\n",
    "            return 0\n",
    "    elif msg_type == 3:\n",
    "        home_team_fouled = 2 * (home_team in description) - 1\n",
    "        if 'technical' in description.lower():\n",
    "            return 0\n",
    "        else:\n",
    "            n_free_throws = int(description[description.find(' of ')+4]) - int(description[description.find(' of ')-1])\n",
    "    else:\n",
    "        return 0\n",
    "    return home_team_fouled * n_free_throws\n",
    "        "
   ]
  },
  {
   "cell_type": "code",
   "execution_count": 29,
   "id": "e608863e",
   "metadata": {},
   "outputs": [],
   "source": [
    "pbp_df['home_team_free_throws'] = pbp_df.apply(lambda x: free_throws_left(x['team_home'], x['msg_type'], x['event'], x['description']), axis=1)"
   ]
  },
  {
   "cell_type": "code",
   "execution_count": 30,
   "id": "26c9270b",
   "metadata": {},
   "outputs": [],
   "source": [
    "total_game_time = 4 * 12 * 60\n",
    "overtime = 5 * 60\n",
    "\n",
    "pbp_df['time_left'] = total_game_time - pbp_df['secs_passed_game']\n",
    "pbp_df.loc[pbp_df['period'] == 5, 'time_left'] += overtime\n",
    "pbp_df.loc[pbp_df['period'] == 6, 'time_left'] += 2 * overtime\n",
    "pbp_df.loc[pbp_df['period'] == 7, 'time_left'] += 3 * overtime\n",
    "pbp_df.loc[pbp_df['period'] == 8, 'time_left'] += 4 * overtime"
   ]
  },
  {
   "cell_type": "code",
   "execution_count": 31,
   "id": "e501cd15",
   "metadata": {},
   "outputs": [],
   "source": [
    "pbp_df['margin'] = pbp_df['hs'] - pbp_df['vs']"
   ]
  },
  {
   "cell_type": "code",
   "execution_count": 32,
   "id": "9523195b",
   "metadata": {},
   "outputs": [],
   "source": [
    "pbp_df = pd.merge(pbp_df, pbp_df.groupby(['game_id'])[['hs', 'vs']].max().reset_index(), on='game_id', suffixes=('', '_final'))\n",
    "pbp_df['home_team_won'] = (pbp_df['hs_final'] > pbp_df['vs_final']).astype(int)"
   ]
  },
  {
   "cell_type": "code",
   "execution_count": 33,
   "id": "afdf3df1",
   "metadata": {},
   "outputs": [],
   "source": [
    "eps = 1\n",
    "x = pbp_df['margin'] / (pbp_df['time_left'] + eps)\n",
    "pbp_df['time_pressure'] = (np.exp(x) - np.exp(-x)) / (np.exp(x) + np.exp(-x))"
   ]
  },
  {
   "cell_type": "code",
   "execution_count": 34,
   "id": "6928d681",
   "metadata": {},
   "outputs": [],
   "source": [
    "pbp_df = pbp_df[['game_date', 'game_id', 'team_home', 'team_away', 'period', 'event_desc', 'home_possession_prob', 'home_team_free_throws', 'bonus', 'ejections', 'margin', 'time_left', 'time_pressure', 'home_team_won']]"
   ]
  },
  {
   "cell_type": "markdown",
   "id": "b058c794",
   "metadata": {},
   "source": [
    "## 3. Prepare betting data"
   ]
  },
  {
   "cell_type": "code",
   "execution_count": 48,
   "id": "de97f341",
   "metadata": {},
   "outputs": [],
   "source": [
    "betting_df = pd.read_csv('../data/betting.csv')"
   ]
  },
  {
   "cell_type": "code",
   "execution_count": 49,
   "id": "aab9f71a",
   "metadata": {},
   "outputs": [],
   "source": [
    "betting_df = betting_df[['season', 'game_date', 'home_team_abbrev', 'visit_team_abbrev', 'line']]\n",
    "betting_df['date'] = betting_df['game_date'].apply(lambda x: x[:10])"
   ]
  },
  {
   "cell_type": "code",
   "execution_count": 50,
   "id": "25662d26",
   "metadata": {},
   "outputs": [],
   "source": [
    "betting_df['season'] = betting_df['season'].astype(int)\n",
    "betting_df = betting_df[[season in (2019, 2021, 2022) for season in betting_df['season']]]"
   ]
  },
  {
   "cell_type": "markdown",
   "id": "91548dd1",
   "metadata": {},
   "source": [
    "## 4. Merge both dataframes"
   ]
  },
  {
   "cell_type": "code",
   "execution_count": 247,
   "id": "ed093dab",
   "metadata": {},
   "outputs": [],
   "source": [
    "df = pd.merge(pbp_df, betting_df, how='left', left_on=['game_date', 'team_home'], right_on=['date', 'home_team_abbrev'])"
   ]
  },
  {
   "cell_type": "code",
   "execution_count": 248,
   "id": "7fcde282",
   "metadata": {},
   "outputs": [],
   "source": [
    "df = df.dropna()"
   ]
  },
  {
   "cell_type": "code",
   "execution_count": 249,
   "id": "5a507271",
   "metadata": {},
   "outputs": [],
   "source": [
    "df = df[\n",
    "    [\n",
    "        'game_id', \n",
    "        'date', \n",
    "        'team_home', \n",
    "        'team_away', \n",
    "        'period',\n",
    "        'event_desc',\n",
    "        'home_possession_prob',\n",
    "        'home_team_free_throws',\n",
    "        'bonus',\n",
    "        'ejections', \n",
    "        'time_left', \n",
    "        'margin', \n",
    "        'time_pressure', \n",
    "        'line', \n",
    "        'home_team_won',\n",
    "    ]\n",
    "]"
   ]
  },
  {
   "cell_type": "code",
   "execution_count": 250,
   "id": "a8a28263",
   "metadata": {},
   "outputs": [
    {
     "data": {
      "text/html": [
       "<div>\n",
       "<style scoped>\n",
       "    .dataframe tbody tr th:only-of-type {\n",
       "        vertical-align: middle;\n",
       "    }\n",
       "\n",
       "    .dataframe tbody tr th {\n",
       "        vertical-align: top;\n",
       "    }\n",
       "\n",
       "    .dataframe thead th {\n",
       "        text-align: right;\n",
       "    }\n",
       "</style>\n",
       "<table border=\"1\" class=\"dataframe\">\n",
       "  <thead>\n",
       "    <tr style=\"text-align: right;\">\n",
       "      <th></th>\n",
       "      <th>game_id</th>\n",
       "      <th>date</th>\n",
       "      <th>team_home</th>\n",
       "      <th>team_away</th>\n",
       "      <th>period</th>\n",
       "      <th>event_desc</th>\n",
       "      <th>home_possession_prob</th>\n",
       "      <th>home_team_free_throws</th>\n",
       "      <th>bonus</th>\n",
       "      <th>ejections</th>\n",
       "      <th>time_left</th>\n",
       "      <th>margin</th>\n",
       "      <th>time_pressure</th>\n",
       "      <th>line</th>\n",
       "      <th>home_team_won</th>\n",
       "    </tr>\n",
       "  </thead>\n",
       "  <tbody>\n",
       "    <tr>\n",
       "      <th>0</th>\n",
       "      <td>21900001</td>\n",
       "      <td>2019-10-22</td>\n",
       "      <td>TOR</td>\n",
       "      <td>NOP</td>\n",
       "      <td>1</td>\n",
       "      <td>start period</td>\n",
       "      <td>0.5</td>\n",
       "      <td>0</td>\n",
       "      <td>0</td>\n",
       "      <td>0</td>\n",
       "      <td>2880.0</td>\n",
       "      <td>0</td>\n",
       "      <td>0.000000</td>\n",
       "      <td>-6.5</td>\n",
       "      <td>1</td>\n",
       "    </tr>\n",
       "    <tr>\n",
       "      <th>1</th>\n",
       "      <td>21900001</td>\n",
       "      <td>2019-10-22</td>\n",
       "      <td>TOR</td>\n",
       "      <td>NOP</td>\n",
       "      <td>1</td>\n",
       "      <td>jump ball</td>\n",
       "      <td>0.0</td>\n",
       "      <td>0</td>\n",
       "      <td>0</td>\n",
       "      <td>0</td>\n",
       "      <td>2877.0</td>\n",
       "      <td>0</td>\n",
       "      <td>0.000000</td>\n",
       "      <td>-6.5</td>\n",
       "      <td>1</td>\n",
       "    </tr>\n",
       "    <tr>\n",
       "      <th>2</th>\n",
       "      <td>21900001</td>\n",
       "      <td>2019-10-22</td>\n",
       "      <td>TOR</td>\n",
       "      <td>NOP</td>\n",
       "      <td>1</td>\n",
       "      <td>field goal (missed)</td>\n",
       "      <td>0.7</td>\n",
       "      <td>0</td>\n",
       "      <td>0</td>\n",
       "      <td>0</td>\n",
       "      <td>2868.0</td>\n",
       "      <td>0</td>\n",
       "      <td>0.000000</td>\n",
       "      <td>-6.5</td>\n",
       "      <td>1</td>\n",
       "    </tr>\n",
       "    <tr>\n",
       "      <th>3</th>\n",
       "      <td>21900001</td>\n",
       "      <td>2019-10-22</td>\n",
       "      <td>TOR</td>\n",
       "      <td>NOP</td>\n",
       "      <td>1</td>\n",
       "      <td>offensive rebound</td>\n",
       "      <td>0.0</td>\n",
       "      <td>0</td>\n",
       "      <td>0</td>\n",
       "      <td>0</td>\n",
       "      <td>2867.0</td>\n",
       "      <td>0</td>\n",
       "      <td>0.000000</td>\n",
       "      <td>-6.5</td>\n",
       "      <td>1</td>\n",
       "    </tr>\n",
       "    <tr>\n",
       "      <th>4</th>\n",
       "      <td>21900001</td>\n",
       "      <td>2019-10-22</td>\n",
       "      <td>TOR</td>\n",
       "      <td>NOP</td>\n",
       "      <td>1</td>\n",
       "      <td>field goal (made)</td>\n",
       "      <td>1.0</td>\n",
       "      <td>0</td>\n",
       "      <td>0</td>\n",
       "      <td>0</td>\n",
       "      <td>2867.0</td>\n",
       "      <td>-2</td>\n",
       "      <td>-0.000697</td>\n",
       "      <td>-6.5</td>\n",
       "      <td>1</td>\n",
       "    </tr>\n",
       "  </tbody>\n",
       "</table>\n",
       "</div>"
      ],
      "text/plain": [
       "    game_id        date team_home team_away  period           event_desc  \\\n",
       "0  21900001  2019-10-22       TOR       NOP       1         start period   \n",
       "1  21900001  2019-10-22       TOR       NOP       1            jump ball   \n",
       "2  21900001  2019-10-22       TOR       NOP       1  field goal (missed)   \n",
       "3  21900001  2019-10-22       TOR       NOP       1    offensive rebound   \n",
       "4  21900001  2019-10-22       TOR       NOP       1    field goal (made)   \n",
       "\n",
       "   home_possession_prob  home_team_free_throws  bonus  ejections  time_left  \\\n",
       "0                   0.5                      0      0          0     2880.0   \n",
       "1                   0.0                      0      0          0     2877.0   \n",
       "2                   0.7                      0      0          0     2868.0   \n",
       "3                   0.0                      0      0          0     2867.0   \n",
       "4                   1.0                      0      0          0     2867.0   \n",
       "\n",
       "   margin  time_pressure  line  home_team_won  \n",
       "0       0       0.000000  -6.5              1  \n",
       "1       0       0.000000  -6.5              1  \n",
       "2       0       0.000000  -6.5              1  \n",
       "3       0       0.000000  -6.5              1  \n",
       "4      -2      -0.000697  -6.5              1  "
      ]
     },
     "execution_count": 250,
     "metadata": {},
     "output_type": "execute_result"
    }
   ],
   "source": [
    "df.head()"
   ]
  },
  {
   "cell_type": "code",
   "execution_count": 251,
   "id": "1a5cd9dc",
   "metadata": {
    "scrolled": true
   },
   "outputs": [
    {
     "name": "stdout",
     "output_type": "stream",
     "text": [
      "<class 'pandas.core.frame.DataFrame'>\n",
      "Int64Index: 1424826 entries, 0 to 1439446\n",
      "Data columns (total 15 columns):\n",
      " #   Column                 Non-Null Count    Dtype  \n",
      "---  ------                 --------------    -----  \n",
      " 0   game_id                1424826 non-null  int64  \n",
      " 1   date                   1424826 non-null  object \n",
      " 2   team_home              1424826 non-null  object \n",
      " 3   team_away              1424826 non-null  object \n",
      " 4   period                 1424826 non-null  int64  \n",
      " 5   event_desc             1424826 non-null  object \n",
      " 6   home_possession_prob   1424826 non-null  float64\n",
      " 7   home_team_free_throws  1424826 non-null  int64  \n",
      " 8   bonus                  1424826 non-null  int32  \n",
      " 9   ejections              1424826 non-null  int64  \n",
      " 10  time_left              1424826 non-null  float64\n",
      " 11  margin                 1424826 non-null  int64  \n",
      " 12  time_pressure          1424826 non-null  float64\n",
      " 13  line                   1424826 non-null  float64\n",
      " 14  home_team_won          1424826 non-null  int32  \n",
      "dtypes: float64(4), int32(2), int64(5), object(4)\n",
      "memory usage: 163.1+ MB\n"
     ]
    }
   ],
   "source": [
    "df.info()"
   ]
  },
  {
   "cell_type": "code",
   "execution_count": 252,
   "id": "bbce0f61",
   "metadata": {},
   "outputs": [],
   "source": [
    "df.to_csv('../data/pbp_data.csv', index=False)"
   ]
  },
  {
   "cell_type": "code",
   "execution_count": null,
   "id": "e67a2714",
   "metadata": {},
   "outputs": [],
   "source": []
  }
 ],
 "metadata": {
  "kernelspec": {
   "display_name": "Python 3 (ipykernel)",
   "language": "python",
   "name": "python3"
  },
  "language_info": {
   "codemirror_mode": {
    "name": "ipython",
    "version": 3
   },
   "file_extension": ".py",
   "mimetype": "text/x-python",
   "name": "python",
   "nbconvert_exporter": "python",
   "pygments_lexer": "ipython3",
   "version": "3.10.9"
  }
 },
 "nbformat": 4,
 "nbformat_minor": 5
}
